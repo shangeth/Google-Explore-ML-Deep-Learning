{
 "cells": [
  {
   "cell_type": "markdown",
   "metadata": {
    "colab_type": "text",
    "id": "view-in-github"
   },
   "source": [
    "<a href=\"https://colab.research.google.com/github/shangeth/Google-ML-Academy/blob/master/2-Deep-Neural-Networks/2_9_ANN_Natural_Language_Processing.ipynb\" target=\"_parent\"><img src=\"https://colab.research.google.com/assets/colab-badge.svg\" alt=\"Open In Colab\"/></a>"
   ]
  },
  {
   "cell_type": "markdown",
   "metadata": {
    "colab_type": "text",
    "id": "UouPVtDQhkcJ"
   },
   "source": [
    "<hr>\n",
    "<h1 align=\"center\"><a href='https://shangeth.com/courses/'>Deep Learning - Beginners Track</a></h1>\n",
    "<h3 align=\"center\">Instructor: <a href='https://shangeth.com/'>Shangeth Rajaa</a></h3>\n",
    "<hr>"
   ]
  },
  {
   "cell_type": "markdown",
   "metadata": {
    "colab_type": "text",
    "id": "UQQ-UCMDh1cC"
   },
   "source": [
    "# Sentiment Analysis\n",
    "\n",
    "We are going to classify a movie review as Positive or Negative review given a text review.\n",
    "\n",
    "![](https://cfml.se/img/blog/sentiment_classification/top_img.png)\n",
    "\n",
    "\n",
    "We'll use the IMDB dataset that contains the text of 50,000 movie reviews from the Internet Movie Database. These are split into 25,000 reviews for training and 25,000 reviews for testing. The training and testing sets are balanced, meaning they contain an equal number of positive and negative reviews."
   ]
  },
  {
   "cell_type": "markdown",
   "metadata": {
    "colab_type": "text",
    "id": "JZxY4GN_isbf"
   },
   "source": [
    "# IMDB Dataset"
   ]
  },
  {
   "cell_type": "markdown",
   "metadata": {
    "colab_type": "text",
    "id": "cpvoaYhulUUg"
   },
   "source": [
    "## Download the Dataset"
   ]
  },
  {
   "cell_type": "code",
   "execution_count": 0,
   "metadata": {
    "colab": {},
    "colab_type": "code",
    "id": "WTXDK65Ohkz1"
   },
   "outputs": [],
   "source": [
    "import tensorflow as tf\n",
    "\n",
    "imdb = tf.keras.datasets.imdb\n",
    "(train_data, train_labels), (test_data, test_labels) = imdb.load_data(num_words=10000)"
   ]
  },
  {
   "cell_type": "markdown",
   "metadata": {
    "colab_type": "text",
    "id": "Cxk5GQj6lfEs"
   },
   "source": [
    "## Explore the Dataset"
   ]
  },
  {
   "cell_type": "code",
   "execution_count": 87,
   "metadata": {
    "colab": {
     "base_uri": "https://localhost:8080/",
     "height": 34
    },
    "colab_type": "code",
    "id": "gzObY37tlWlB",
    "outputId": "769421a6-443c-409f-a564-080e485fb777"
   },
   "outputs": [
    {
     "data": {
      "text/plain": [
       "((25000,), (25000,), (25000,), (25000,))"
      ]
     },
     "execution_count": 87,
     "metadata": {
      "tags": []
     },
     "output_type": "execute_result"
    }
   ],
   "source": [
    "train_data.shape, train_labels.shape, test_data.shape, test_labels.shape"
   ]
  },
  {
   "cell_type": "code",
   "execution_count": 88,
   "metadata": {
    "colab": {
     "base_uri": "https://localhost:8080/",
     "height": 34
    },
    "colab_type": "code",
    "id": "kD18fhfzlboD",
    "outputId": "527fdce9-9804-473c-eec4-e2df7e16ebcd"
   },
   "outputs": [
    {
     "data": {
      "text/plain": [
       "218"
      ]
     },
     "execution_count": 88,
     "metadata": {
      "tags": []
     },
     "output_type": "execute_result"
    }
   ],
   "source": [
    "len(train_data[0])"
   ]
  },
  {
   "cell_type": "markdown",
   "metadata": {
    "colab_type": "text",
    "id": "YAeZVFbulwdz"
   },
   "source": [
    "Each of these numbers correspond to a word."
   ]
  },
  {
   "cell_type": "code",
   "execution_count": 89,
   "metadata": {
    "colab": {
     "base_uri": "https://localhost:8080/",
     "height": 34
    },
    "colab_type": "code",
    "id": "PR8dQ0Hblhmk",
    "outputId": "406c6f1e-1164-43d0-9c3a-adea621d5842"
   },
   "outputs": [
    {
     "data": {
      "text/plain": [
       "(4822, 179)"
      ]
     },
     "execution_count": 89,
     "metadata": {
      "tags": []
     },
     "output_type": "execute_result"
    }
   ],
   "source": [
    "word_2_int = tf.keras.datasets.imdb.get_word_index(path='imdb_word_index.json')\n",
    "\n",
    "word_2_int['hello'], word_2_int['world']"
   ]
  },
  {
   "cell_type": "code",
   "execution_count": 90,
   "metadata": {
    "colab": {
     "base_uri": "https://localhost:8080/",
     "height": 34
    },
    "colab_type": "code",
    "id": "SPkLjOd8xeP7",
    "outputId": "02340fb9-0b69-4fe5-bc9e-b0960a8f9c4b"
   },
   "outputs": [
    {
     "data": {
      "text/plain": [
       "88584"
      ]
     },
     "execution_count": 90,
     "metadata": {
      "tags": []
     },
     "output_type": "execute_result"
    }
   ],
   "source": [
    "len(word_2_int)"
   ]
  },
  {
   "cell_type": "code",
   "execution_count": 91,
   "metadata": {
    "colab": {
     "base_uri": "https://localhost:8080/",
     "height": 34
    },
    "colab_type": "code",
    "id": "BRH-CO2YwRaI",
    "outputId": "571d6ea0-93c2-4400-cf4d-dd2c42ea9fd7"
   },
   "outputs": [
    {
     "data": {
      "text/plain": [
       "[246, 17, 204, 123, 107]"
      ]
     },
     "execution_count": 91,
     "metadata": {
      "tags": []
     },
     "output_type": "execute_result"
    }
   ],
   "source": [
    "def sentence_2_int(sentence):\n",
    "    sentence_2_int_list = []\n",
    "    for i in sentence.lower().split(' '):\n",
    "        sentence_2_int_list.append(word_2_int[i])\n",
    "    return sentence_2_int_list\n",
    "\n",
    "sentence = \"Worst movie i've ever seen\"\n",
    "sentence_2_int(sentence)"
   ]
  },
  {
   "cell_type": "markdown",
   "metadata": {
    "colab_type": "text",
    "id": "qYKzHMr6x7LT"
   },
   "source": [
    "## Preparing the data"
   ]
  },
  {
   "cell_type": "markdown",
   "metadata": {
    "colab_type": "text",
    "id": "aQ7BIjAWx-b_"
   },
   "source": [
    "### Padding\n",
    "\n",
    "Every sentence will be off different length, to pass the sentences through the ANN model, we need to have a fixed length data.\n",
    "So we\n",
    "- pad small sentence\n",
    "- cut very long sentence"
   ]
  },
  {
   "cell_type": "code",
   "execution_count": 92,
   "metadata": {
    "colab": {
     "base_uri": "https://localhost:8080/",
     "height": 34
    },
    "colab_type": "code",
    "id": "PWpZ5HMBxcTT",
    "outputId": "fd8823fd-1d1b-4835-f2bf-26aabdcfec08"
   },
   "outputs": [
    {
     "data": {
      "text/plain": [
       "((25000, 100), (25000,), (25000, 100), (25000,))"
      ]
     },
     "execution_count": 92,
     "metadata": {
      "tags": []
     },
     "output_type": "execute_result"
    }
   ],
   "source": [
    "pad_value = 0\n",
    "sentence_len = 100\n",
    "\n",
    "train_data = tf.keras.preprocessing.sequence.pad_sequences(train_data,\n",
    "                                                        value=0,\n",
    "                                                        padding='post',\n",
    "                                                        maxlen=sentence_len)\n",
    "\n",
    "test_data = tf.keras.preprocessing.sequence.pad_sequences(test_data,\n",
    "                                                       value=0,\n",
    "                                                       padding='post',\n",
    "                                                       maxlen=sentence_len)\n",
    "\n",
    "train_data.shape, train_labels.shape, test_data.shape, test_labels.shape"
   ]
  },
  {
   "cell_type": "markdown",
   "metadata": {
    "colab_type": "text",
    "id": "HU-SAIKO6xUs"
   },
   "source": [
    "# ANN Model\n",
    "\n",
    "We will use a new layer into our model called the Embedding layer. \n",
    "\n",
    "The words of each sentence are now represented with numbers, we cannot directly feed those number into the model, we need to convert the numbers into vectors for the model to understand what word it is?\n",
    "\n",
    "but how do we decide the vectors? we leave that to the model. \n",
    "\n",
    "So embedding layer, takes in an integer and converts it into a vector."
   ]
  },
  {
   "cell_type": "code",
   "execution_count": 98,
   "metadata": {
    "colab": {
     "base_uri": "https://localhost:8080/",
     "height": 527
    },
    "colab_type": "code",
    "id": "duIjjy256SQ6",
    "outputId": "ba43492f-c4b3-4a7f-ac70-c0f65d7b7156"
   },
   "outputs": [
    {
     "name": "stdout",
     "output_type": "stream",
     "text": [
      "Model: \"sequential\"\n",
      "_________________________________________________________________\n",
      "Layer (type)                 Output Shape              Param #   \n",
      "=================================================================\n",
      "embedding (Embedding)        (None, 100, 16)           160000    \n",
      "_________________________________________________________________\n",
      "dropout (Dropout)            (None, 100, 16)           0         \n",
      "_________________________________________________________________\n",
      "flatten (Flatten)            (None, 1600)              0         \n",
      "_________________________________________________________________\n",
      "dense (Dense)                (None, 1600)              2561600   \n",
      "_________________________________________________________________\n",
      "activation (Activation)      (None, 1600)              0         \n",
      "_________________________________________________________________\n",
      "dropout_1 (Dropout)          (None, 1600)              0         \n",
      "_________________________________________________________________\n",
      "dense_1 (Dense)              (None, 500)               800500    \n",
      "_________________________________________________________________\n",
      "activation_1 (Activation)    (None, 500)               0         \n",
      "_________________________________________________________________\n",
      "dropout_2 (Dropout)          (None, 500)               0         \n",
      "_________________________________________________________________\n",
      "dense_2 (Dense)              (None, 1)                 501       \n",
      "_________________________________________________________________\n",
      "activation_2 (Activation)    (None, 1)                 0         \n",
      "=================================================================\n",
      "Total params: 3,522,601\n",
      "Trainable params: 3,522,601\n",
      "Non-trainable params: 0\n",
      "_________________________________________________________________\n"
     ]
    }
   ],
   "source": [
    "vocab_size = 10000\n",
    "embedding_dim = 16\n",
    "\n",
    "import tensorflow as tf\n",
    "from tensorflow import keras\n",
    "\n",
    "tf.keras.backend.clear_session()\n",
    "\n",
    "model = tf.keras.Sequential([\n",
    "                             tf.keras.layers.Embedding(vocab_size, embedding_dim, input_length=sentence_len),\n",
    "                             # the model will take as input an integer matrix of size (batch, input_length).\n",
    "                             # now model.output_shape == (None, 100, 16), where None is the batch dimension.\n",
    "                             tf.keras.layers.Dropout(0.4),\n",
    "                             tf.keras.layers.Flatten(),\n",
    "                             tf.keras.layers.Dense(units=sentence_len*embedding_dim), \n",
    "                             tf.keras.layers.Activation('relu'),\n",
    "                             tf.keras.layers.Dropout(0.4),\n",
    "                             tf.keras.layers.Dense(units=500),\n",
    "                             tf.keras.layers.Activation('relu'),\n",
    "                             tf.keras.layers.Dropout(0.4),\n",
    "                             tf.keras.layers.Dense(units=1), \n",
    "                             tf.keras.layers.Activation('sigmoid')\n",
    "                             ])\n",
    "model.summary()"
   ]
  },
  {
   "cell_type": "code",
   "execution_count": 99,
   "metadata": {
    "colab": {
     "base_uri": "https://localhost:8080/",
     "height": 374
    },
    "colab_type": "code",
    "id": "O8o8WlKj8WqM",
    "outputId": "58fe2b85-d308-46c8-d8c4-b5a1dd9f5e64"
   },
   "outputs": [
    {
     "name": "stdout",
     "output_type": "stream",
     "text": [
      "Train on 25000 samples, validate on 25000 samples\n",
      "Epoch 1/10\n",
      "25000/25000 [==============================] - 12s 489us/sample - loss: 0.6917 - acc: 0.5162 - val_loss: 0.6860 - val_acc: 0.5558\n",
      "Epoch 2/10\n",
      "25000/25000 [==============================] - 12s 485us/sample - loss: 0.6434 - acc: 0.6450 - val_loss: 0.5741 - val_acc: 0.7036\n",
      "Epoch 3/10\n",
      "25000/25000 [==============================] - 12s 482us/sample - loss: 0.4729 - acc: 0.7753 - val_loss: 0.4278 - val_acc: 0.8019\n",
      "Epoch 4/10\n",
      "25000/25000 [==============================] - 12s 487us/sample - loss: 0.3406 - acc: 0.8524 - val_loss: 0.3833 - val_acc: 0.8292\n",
      "Epoch 5/10\n",
      "25000/25000 [==============================] - 12s 483us/sample - loss: 0.2646 - acc: 0.8873 - val_loss: 0.3691 - val_acc: 0.8388\n",
      "Epoch 6/10\n",
      "25000/25000 [==============================] - 12s 482us/sample - loss: 0.2038 - acc: 0.9180 - val_loss: 0.3913 - val_acc: 0.8380\n",
      "Epoch 7/10\n",
      "25000/25000 [==============================] - 12s 484us/sample - loss: 0.1641 - acc: 0.9350 - val_loss: 0.4083 - val_acc: 0.8380\n",
      "Epoch 8/10\n",
      "25000/25000 [==============================] - 12s 483us/sample - loss: 0.1318 - acc: 0.9490 - val_loss: 0.4307 - val_acc: 0.8374\n",
      "Epoch 9/10\n",
      "25000/25000 [==============================] - 12s 484us/sample - loss: 0.1029 - acc: 0.9595 - val_loss: 0.4761 - val_acc: 0.8348\n",
      "Epoch 10/10\n",
      "25000/25000 [==============================] - 12s 485us/sample - loss: 0.0871 - acc: 0.9660 - val_loss: 0.4966 - val_acc: 0.8368\n"
     ]
    }
   ],
   "source": [
    "optimizer = tf.keras.optimizers.Adam(lr=0.001)\n",
    "model.compile(optimizer=optimizer, loss='binary_crossentropy', metrics=['accuracy'])\n",
    "\n",
    "tf_history = model.fit(train_data, train_labels, batch_size=2000, epochs=10, verbose=True, validation_data=(test_data, test_labels))"
   ]
  },
  {
   "cell_type": "code",
   "execution_count": 0,
   "metadata": {
    "colab": {},
    "colab_type": "code",
    "id": "94ejGEOy8pS9"
   },
   "outputs": [],
   "source": [
    "model.save('trained_model.h5')"
   ]
  },
  {
   "cell_type": "markdown",
   "metadata": {
    "colab_type": "text",
    "id": "3X7FNS92T3in"
   },
   "source": [
    "# Model Pipeline"
   ]
  },
  {
   "cell_type": "markdown",
   "metadata": {
    "colab_type": "text",
    "id": "Ls_4q1ZlT7Dg"
   },
   "source": [
    "## Load trained Model"
   ]
  },
  {
   "cell_type": "code",
   "execution_count": 103,
   "metadata": {
    "colab": {
     "base_uri": "https://localhost:8080/",
     "height": 649
    },
    "colab_type": "code",
    "id": "YTc74n7ST1PV",
    "outputId": "52ba8573-7815-44fb-f9dd-27d663b13cba"
   },
   "outputs": [
    {
     "name": "stdout",
     "output_type": "stream",
     "text": [
      "WARNING:tensorflow:From /usr/local/lib/python3.6/dist-packages/tensorflow/python/ops/init_ops.py:97: calling GlorotUniform.__init__ (from tensorflow.python.ops.init_ops) with dtype is deprecated and will be removed in a future version.\n",
      "Instructions for updating:\n",
      "Call initializer instance with the dtype argument instead of passing it to the constructor\n",
      "WARNING:tensorflow:From /usr/local/lib/python3.6/dist-packages/tensorflow/python/ops/init_ops.py:97: calling Zeros.__init__ (from tensorflow.python.ops.init_ops) with dtype is deprecated and will be removed in a future version.\n",
      "Instructions for updating:\n",
      "Call initializer instance with the dtype argument instead of passing it to the constructor\n",
      "Model: \"sequential\"\n",
      "_________________________________________________________________\n",
      "Layer (type)                 Output Shape              Param #   \n",
      "=================================================================\n",
      "embedding (Embedding)        (None, 100, 16)           160000    \n",
      "_________________________________________________________________\n",
      "dropout (Dropout)            (None, 100, 16)           0         \n",
      "_________________________________________________________________\n",
      "flatten (Flatten)            (None, 1600)              0         \n",
      "_________________________________________________________________\n",
      "dense (Dense)                (None, 1600)              2561600   \n",
      "_________________________________________________________________\n",
      "activation (Activation)      (None, 1600)              0         \n",
      "_________________________________________________________________\n",
      "dropout_1 (Dropout)          (None, 1600)              0         \n",
      "_________________________________________________________________\n",
      "dense_1 (Dense)              (None, 500)               800500    \n",
      "_________________________________________________________________\n",
      "activation_1 (Activation)    (None, 500)               0         \n",
      "_________________________________________________________________\n",
      "dropout_2 (Dropout)          (None, 500)               0         \n",
      "_________________________________________________________________\n",
      "dense_2 (Dense)              (None, 1)                 501       \n",
      "_________________________________________________________________\n",
      "activation_2 (Activation)    (None, 1)                 0         \n",
      "=================================================================\n",
      "Total params: 3,522,601\n",
      "Trainable params: 3,522,601\n",
      "Non-trainable params: 0\n",
      "_________________________________________________________________\n"
     ]
    }
   ],
   "source": [
    "trained_model = tf.keras.models.load_model('trained_model.h5')\n",
    "\n",
    "trained_model.summary()"
   ]
  },
  {
   "cell_type": "markdown",
   "metadata": {
    "colab_type": "text",
    "id": "GO3a7bWAUWpT"
   },
   "source": [
    "## Sentence to Vectors"
   ]
  },
  {
   "cell_type": "code",
   "execution_count": 111,
   "metadata": {
    "colab": {
     "base_uri": "https://localhost:8080/",
     "height": 153
    },
    "colab_type": "code",
    "id": "xlgHP_aqUFbh",
    "outputId": "4fbcb613-b20f-4623-a8c4-34d14dc164fc"
   },
   "outputs": [
    {
     "data": {
      "text/plain": [
       "array([[246,  17, 204, 123, 107,   0,   0,   0,   0,   0,   0,   0,   0,\n",
       "          0,   0,   0,   0,   0,   0,   0,   0,   0,   0,   0,   0,   0,\n",
       "          0,   0,   0,   0,   0,   0,   0,   0,   0,   0,   0,   0,   0,\n",
       "          0,   0,   0,   0,   0,   0,   0,   0,   0,   0,   0,   0,   0,\n",
       "          0,   0,   0,   0,   0,   0,   0,   0,   0,   0,   0,   0,   0,\n",
       "          0,   0,   0,   0,   0,   0,   0,   0,   0,   0,   0,   0,   0,\n",
       "          0,   0,   0,   0,   0,   0,   0,   0,   0,   0,   0,   0,   0,\n",
       "          0,   0,   0,   0,   0,   0,   0,   0,   0]], dtype=int32)"
      ]
     },
     "execution_count": 111,
     "metadata": {
      "tags": []
     },
     "output_type": "execute_result"
    }
   ],
   "source": [
    "import numpy as np\n",
    "\n",
    "def sentence_2_int(sentence):\n",
    "    sentence_2_int_list = []\n",
    "    for i in sentence.lower().split(' '):\n",
    "        sentence_2_int_list.append(word_2_int[i])\n",
    "    arr = np.array(sentence_2_int_list).reshape(1,-1)\n",
    "    arr = tf.keras.preprocessing.sequence.pad_sequences(arr, value=0, padding='post', maxlen=100)\n",
    "    return arr\n",
    "\n",
    "sentence = \"Worst movie i've ever seen\"\n",
    "sentence_2_int(sentence)"
   ]
  },
  {
   "cell_type": "code",
   "execution_count": 112,
   "metadata": {
    "colab": {
     "base_uri": "https://localhost:8080/",
     "height": 34
    },
    "colab_type": "code",
    "id": "mtIic5ygUZ-9",
    "outputId": "4b725186-43d6-4316-cd35-7342b81c34e4"
   },
   "outputs": [
    {
     "data": {
      "text/plain": [
       "array([[0.22403198]], dtype=float32)"
      ]
     },
     "execution_count": 112,
     "metadata": {
      "tags": []
     },
     "output_type": "execute_result"
    }
   ],
   "source": [
    "model.predict(sentence_2_int(sentence))"
   ]
  },
  {
   "cell_type": "code",
   "execution_count": 0,
   "metadata": {
    "colab": {},
    "colab_type": "code",
    "id": "R5q6OdbLVDTV"
   },
   "outputs": [],
   "source": [
    "def sentence_2_prediction(sentence):\n",
    "    vector = sentence_2_int(sentence)\n",
    "    prob = model.predict(vector)\n",
    "    prediction = prob > 0.5\n",
    "    if prediction == 1:\n",
    "        print('Positive Review :D')\n",
    "    else:\n",
    "        print('Negative Review :(')"
   ]
  },
  {
   "cell_type": "code",
   "execution_count": 114,
   "metadata": {
    "colab": {
     "base_uri": "https://localhost:8080/",
     "height": 34
    },
    "colab_type": "code",
    "id": "wHZWcw7oVfeC",
    "outputId": "8507a295-dca4-4cd1-e983-fbd1c3157b88"
   },
   "outputs": [
    {
     "name": "stdout",
     "output_type": "stream",
     "text": [
      "Positive Review :D\n"
     ]
    }
   ],
   "source": [
    "sentence = 'Good Movie i really enjoyed it'\n",
    "\n",
    "sentence_2_prediction(sentence)"
   ]
  },
  {
   "cell_type": "code",
   "execution_count": 121,
   "metadata": {
    "colab": {
     "base_uri": "https://localhost:8080/",
     "height": 34
    },
    "colab_type": "code",
    "id": "yhPC1NaeVklf",
    "outputId": "ae7a9113-2ddc-458c-85c0-3181faa8fa57"
   },
   "outputs": [
    {
     "name": "stdout",
     "output_type": "stream",
     "text": [
      "Negative Review :(\n"
     ]
    }
   ],
   "source": [
    "sentence = 'worst movie'\n",
    "\n",
    "sentence_2_prediction(sentence)"
   ]
  },
  {
   "cell_type": "markdown",
   "metadata": {
    "colab_type": "text",
    "id": "OW__q9HwWAuM"
   },
   "source": [
    "If you try many different sentences, you may notice the model actually doen't perform well. There may be many reasons for it.\n",
    "\n",
    "- vocabulary size\n",
    "- sequence length(no of words in a sentence for padding)\n",
    "- model architecture\n",
    "- embedding dim\n",
    "\n",
    "Train the model by changing all the above to improve its performance.\n"
   ]
  }
 ],
 "metadata": {
  "colab": {
   "collapsed_sections": [],
   "include_colab_link": true,
   "name": "2_9_ANN_Natural_Language_Processing.ipynb",
   "provenance": [],
   "version": "0.3.2"
  },
  "kernelspec": {
   "display_name": "Python 3",
   "language": "python",
   "name": "python3"
  },
  "language_info": {
   "codemirror_mode": {
    "name": "ipython",
    "version": 3
   },
   "file_extension": ".py",
   "mimetype": "text/x-python",
   "name": "python",
   "nbconvert_exporter": "python",
   "pygments_lexer": "ipython3",
   "version": "3.6.8"
  }
 },
 "nbformat": 4,
 "nbformat_minor": 1
}
