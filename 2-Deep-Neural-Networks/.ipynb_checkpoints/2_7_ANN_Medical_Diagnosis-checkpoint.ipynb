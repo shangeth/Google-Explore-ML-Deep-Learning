{
 "cells": [
  {
   "cell_type": "markdown",
   "metadata": {
    "colab_type": "text",
    "id": "view-in-github"
   },
   "source": [
    "<a href=\"https://colab.research.google.com/github/shangeth/Google-ML-Academy/blob/master/2-Deep-Neural-Networks/2_7_ANN_Medical_Diagnosis.ipynb\" target=\"_parent\"><img src=\"https://colab.research.google.com/assets/colab-badge.svg\" alt=\"Open In Colab\"/></a>"
   ]
  },
  {
   "cell_type": "markdown",
   "metadata": {
    "colab_type": "text",
    "id": "ds4qGwfg8thI"
   },
   "source": [
    "<hr>\n",
    "<h1 align=\"center\"><a href='https://shangeth.com/courses/'>Deep Learning - Beginners Track</a></h1>\n",
    "<h3 align=\"center\">Instructor: <a href='https://shangeth.com/'>Shangeth Rajaa</a></h3>\n",
    "<hr>"
   ]
  },
  {
   "cell_type": "markdown",
   "metadata": {
    "colab_type": "text",
    "id": "PY1wcyDC84SW"
   },
   "source": [
    "We will use ANNs to diagnose Brease Cancer with some characteristics of the cell nuclei."
   ]
  },
  {
   "cell_type": "markdown",
   "metadata": {
    "colab_type": "text",
    "id": "RvJ9UwE19aj8"
   },
   "source": [
    "# Dataset"
   ]
  },
  {
   "cell_type": "markdown",
   "metadata": {
    "colab_type": "text",
    "id": "ORBDUH55-EcO"
   },
   "source": [
    "## Download the Dataset\n",
    "\n",
    "We will use a breast cancer diagnosis dataset from Opeml.org"
   ]
  },
  {
   "cell_type": "code",
   "execution_count": 0,
   "metadata": {
    "colab": {},
    "colab_type": "code",
    "id": "CPJiOYME8t6F"
   },
   "outputs": [],
   "source": [
    "%%capture\n",
    "!wget https://www.openml.org/data/get_csv/5600/BNG_breast-w.arff"
   ]
  },
  {
   "cell_type": "markdown",
   "metadata": {
    "colab_type": "text",
    "id": "_fw7ZCuQ-Pnu"
   },
   "source": [
    "## Explore the Dataset"
   ]
  },
  {
   "cell_type": "code",
   "execution_count": 2,
   "metadata": {
    "colab": {
     "base_uri": "https://localhost:8080/",
     "height": 204
    },
    "colab_type": "code",
    "id": "6R_5_tw-9rYn",
    "outputId": "51a16e02-0323-4145-86e5-65a3e33ae321"
   },
   "outputs": [
    {
     "data": {
      "text/html": [
       "<div>\n",
       "<style scoped>\n",
       "    .dataframe tbody tr th:only-of-type {\n",
       "        vertical-align: middle;\n",
       "    }\n",
       "\n",
       "    .dataframe tbody tr th {\n",
       "        vertical-align: top;\n",
       "    }\n",
       "\n",
       "    .dataframe thead th {\n",
       "        text-align: right;\n",
       "    }\n",
       "</style>\n",
       "<table border=\"1\" class=\"dataframe\">\n",
       "  <thead>\n",
       "    <tr style=\"text-align: right;\">\n",
       "      <th></th>\n",
       "      <th>Clump_Thickness</th>\n",
       "      <th>Cell_Size_Uniformity</th>\n",
       "      <th>Cell_Shape_Uniformity</th>\n",
       "      <th>Marginal_Adhesion</th>\n",
       "      <th>Single_Epi_Cell_Size</th>\n",
       "      <th>Bare_Nuclei</th>\n",
       "      <th>Bland_Chromatin</th>\n",
       "      <th>Normal_Nucleoli</th>\n",
       "      <th>Mitoses</th>\n",
       "      <th>Class</th>\n",
       "    </tr>\n",
       "  </thead>\n",
       "  <tbody>\n",
       "    <tr>\n",
       "      <th>0</th>\n",
       "      <td>7.581819</td>\n",
       "      <td>9.745087</td>\n",
       "      <td>1.000000</td>\n",
       "      <td>4.503410</td>\n",
       "      <td>7.039930</td>\n",
       "      <td>10.0</td>\n",
       "      <td>4.412282</td>\n",
       "      <td>10.000000</td>\n",
       "      <td>5.055266</td>\n",
       "      <td>malignant</td>\n",
       "    </tr>\n",
       "    <tr>\n",
       "      <th>1</th>\n",
       "      <td>5.210921</td>\n",
       "      <td>8.169596</td>\n",
       "      <td>7.841875</td>\n",
       "      <td>6.033275</td>\n",
       "      <td>4.269619</td>\n",
       "      <td>10.0</td>\n",
       "      <td>4.236312</td>\n",
       "      <td>4.845350</td>\n",
       "      <td>1.000000</td>\n",
       "      <td>malignant</td>\n",
       "    </tr>\n",
       "    <tr>\n",
       "      <th>2</th>\n",
       "      <td>4.000000</td>\n",
       "      <td>4.594296</td>\n",
       "      <td>2.330380</td>\n",
       "      <td>2.000000</td>\n",
       "      <td>3.000000</td>\n",
       "      <td>1.0</td>\n",
       "      <td>10.701823</td>\n",
       "      <td>1.101305</td>\n",
       "      <td>1.000000</td>\n",
       "      <td>benign</td>\n",
       "    </tr>\n",
       "    <tr>\n",
       "      <th>3</th>\n",
       "      <td>2.428871</td>\n",
       "      <td>1.000000</td>\n",
       "      <td>1.000000</td>\n",
       "      <td>1.000000</td>\n",
       "      <td>4.099291</td>\n",
       "      <td>1.0</td>\n",
       "      <td>2.000000</td>\n",
       "      <td>1.000000</td>\n",
       "      <td>1.000000</td>\n",
       "      <td>benign</td>\n",
       "    </tr>\n",
       "    <tr>\n",
       "      <th>4</th>\n",
       "      <td>8.855971</td>\n",
       "      <td>2.697539</td>\n",
       "      <td>6.047068</td>\n",
       "      <td>3.301891</td>\n",
       "      <td>3.000000</td>\n",
       "      <td>1.0</td>\n",
       "      <td>5.297592</td>\n",
       "      <td>4.104791</td>\n",
       "      <td>3.115741</td>\n",
       "      <td>malignant</td>\n",
       "    </tr>\n",
       "  </tbody>\n",
       "</table>\n",
       "</div>"
      ],
      "text/plain": [
       "   Clump_Thickness  Cell_Size_Uniformity  ...   Mitoses      Class\n",
       "0         7.581819              9.745087  ...  5.055266  malignant\n",
       "1         5.210921              8.169596  ...  1.000000  malignant\n",
       "2         4.000000              4.594296  ...  1.000000     benign\n",
       "3         2.428871              1.000000  ...  1.000000     benign\n",
       "4         8.855971              2.697539  ...  3.115741  malignant\n",
       "\n",
       "[5 rows x 10 columns]"
      ]
     },
     "execution_count": 2,
     "metadata": {
      "tags": []
     },
     "output_type": "execute_result"
    }
   ],
   "source": [
    "import pandas as pd\n",
    "\n",
    "df = pd.read_csv('/content/BNG_breast-w.arff')\n",
    "df.head()"
   ]
  },
  {
   "cell_type": "markdown",
   "metadata": {
    "colab_type": "text",
    "id": "lr4WEfbf-aGe"
   },
   "source": [
    "- You can see all the features are real numbers, with different range, so they need to be scaled.\n",
    "- Class has to be changes to number {0, 1}."
   ]
  },
  {
   "cell_type": "markdown",
   "metadata": {
    "colab_type": "text",
    "id": "L18voKXD_PJq"
   },
   "source": [
    "## Label Encoder\n",
    "\n",
    "We can use sklearn's Label Encoder to change malignant and benign to {0, 1}."
   ]
  },
  {
   "cell_type": "code",
   "execution_count": 4,
   "metadata": {
    "colab": {
     "base_uri": "https://localhost:8080/",
     "height": 204
    },
    "colab_type": "code",
    "id": "k2zgIvLr9-K1",
    "outputId": "a23116c2-10fb-4479-dc93-f918dd0b1076"
   },
   "outputs": [
    {
     "data": {
      "text/html": [
       "<div>\n",
       "<style scoped>\n",
       "    .dataframe tbody tr th:only-of-type {\n",
       "        vertical-align: middle;\n",
       "    }\n",
       "\n",
       "    .dataframe tbody tr th {\n",
       "        vertical-align: top;\n",
       "    }\n",
       "\n",
       "    .dataframe thead th {\n",
       "        text-align: right;\n",
       "    }\n",
       "</style>\n",
       "<table border=\"1\" class=\"dataframe\">\n",
       "  <thead>\n",
       "    <tr style=\"text-align: right;\">\n",
       "      <th></th>\n",
       "      <th>Clump_Thickness</th>\n",
       "      <th>Cell_Size_Uniformity</th>\n",
       "      <th>Cell_Shape_Uniformity</th>\n",
       "      <th>Marginal_Adhesion</th>\n",
       "      <th>Single_Epi_Cell_Size</th>\n",
       "      <th>Bare_Nuclei</th>\n",
       "      <th>Bland_Chromatin</th>\n",
       "      <th>Normal_Nucleoli</th>\n",
       "      <th>Mitoses</th>\n",
       "      <th>Class</th>\n",
       "    </tr>\n",
       "  </thead>\n",
       "  <tbody>\n",
       "    <tr>\n",
       "      <th>0</th>\n",
       "      <td>7.581819</td>\n",
       "      <td>9.745087</td>\n",
       "      <td>1.000000</td>\n",
       "      <td>4.503410</td>\n",
       "      <td>7.039930</td>\n",
       "      <td>10.0</td>\n",
       "      <td>4.412282</td>\n",
       "      <td>10.000000</td>\n",
       "      <td>5.055266</td>\n",
       "      <td>1</td>\n",
       "    </tr>\n",
       "    <tr>\n",
       "      <th>1</th>\n",
       "      <td>5.210921</td>\n",
       "      <td>8.169596</td>\n",
       "      <td>7.841875</td>\n",
       "      <td>6.033275</td>\n",
       "      <td>4.269619</td>\n",
       "      <td>10.0</td>\n",
       "      <td>4.236312</td>\n",
       "      <td>4.845350</td>\n",
       "      <td>1.000000</td>\n",
       "      <td>1</td>\n",
       "    </tr>\n",
       "    <tr>\n",
       "      <th>2</th>\n",
       "      <td>4.000000</td>\n",
       "      <td>4.594296</td>\n",
       "      <td>2.330380</td>\n",
       "      <td>2.000000</td>\n",
       "      <td>3.000000</td>\n",
       "      <td>1.0</td>\n",
       "      <td>10.701823</td>\n",
       "      <td>1.101305</td>\n",
       "      <td>1.000000</td>\n",
       "      <td>0</td>\n",
       "    </tr>\n",
       "    <tr>\n",
       "      <th>3</th>\n",
       "      <td>2.428871</td>\n",
       "      <td>1.000000</td>\n",
       "      <td>1.000000</td>\n",
       "      <td>1.000000</td>\n",
       "      <td>4.099291</td>\n",
       "      <td>1.0</td>\n",
       "      <td>2.000000</td>\n",
       "      <td>1.000000</td>\n",
       "      <td>1.000000</td>\n",
       "      <td>0</td>\n",
       "    </tr>\n",
       "    <tr>\n",
       "      <th>4</th>\n",
       "      <td>8.855971</td>\n",
       "      <td>2.697539</td>\n",
       "      <td>6.047068</td>\n",
       "      <td>3.301891</td>\n",
       "      <td>3.000000</td>\n",
       "      <td>1.0</td>\n",
       "      <td>5.297592</td>\n",
       "      <td>4.104791</td>\n",
       "      <td>3.115741</td>\n",
       "      <td>1</td>\n",
       "    </tr>\n",
       "  </tbody>\n",
       "</table>\n",
       "</div>"
      ],
      "text/plain": [
       "   Clump_Thickness  Cell_Size_Uniformity  ...   Mitoses  Class\n",
       "0         7.581819              9.745087  ...  5.055266      1\n",
       "1         5.210921              8.169596  ...  1.000000      1\n",
       "2         4.000000              4.594296  ...  1.000000      0\n",
       "3         2.428871              1.000000  ...  1.000000      0\n",
       "4         8.855971              2.697539  ...  3.115741      1\n",
       "\n",
       "[5 rows x 10 columns]"
      ]
     },
     "execution_count": 4,
     "metadata": {
      "tags": []
     },
     "output_type": "execute_result"
    }
   ],
   "source": [
    "from sklearn.preprocessing import LabelEncoder\n",
    "\n",
    "label_encoder = LabelEncoder()\n",
    "df.loc[:, 'Class'] = label_encoder.fit_transform(df.loc[:, 'Class'])\n",
    "df.head()"
   ]
  },
  {
   "cell_type": "markdown",
   "metadata": {
    "colab_type": "text",
    "id": "E75kYteaAJgY"
   },
   "source": [
    "## Scaling Features\n",
    "\n",
    "We will use sklearn's MinMaxScaler to scale the features, it will convert each column into a range of [0,1], you can also specify in which range you want to convert the features, by default its [0,1]."
   ]
  },
  {
   "cell_type": "code",
   "execution_count": 7,
   "metadata": {
    "colab": {
     "base_uri": "https://localhost:8080/",
     "height": 204
    },
    "colab_type": "code",
    "id": "cE7iY1A4_omR",
    "outputId": "9e65fa15-3634-4b74-f5f7-28ec239436aa"
   },
   "outputs": [
    {
     "data": {
      "text/html": [
       "<div>\n",
       "<style scoped>\n",
       "    .dataframe tbody tr th:only-of-type {\n",
       "        vertical-align: middle;\n",
       "    }\n",
       "\n",
       "    .dataframe tbody tr th {\n",
       "        vertical-align: top;\n",
       "    }\n",
       "\n",
       "    .dataframe thead th {\n",
       "        text-align: right;\n",
       "    }\n",
       "</style>\n",
       "<table border=\"1\" class=\"dataframe\">\n",
       "  <thead>\n",
       "    <tr style=\"text-align: right;\">\n",
       "      <th></th>\n",
       "      <th>Clump_Thickness</th>\n",
       "      <th>Cell_Size_Uniformity</th>\n",
       "      <th>Cell_Shape_Uniformity</th>\n",
       "      <th>Marginal_Adhesion</th>\n",
       "      <th>Single_Epi_Cell_Size</th>\n",
       "      <th>Bare_Nuclei</th>\n",
       "      <th>Bland_Chromatin</th>\n",
       "      <th>Normal_Nucleoli</th>\n",
       "      <th>Mitoses</th>\n",
       "      <th>Class</th>\n",
       "    </tr>\n",
       "  </thead>\n",
       "  <tbody>\n",
       "    <tr>\n",
       "      <th>0</th>\n",
       "      <td>0.527352</td>\n",
       "      <td>0.885428</td>\n",
       "      <td>0.000000</td>\n",
       "      <td>0.344875</td>\n",
       "      <td>0.450241</td>\n",
       "      <td>0.761964</td>\n",
       "      <td>0.310056</td>\n",
       "      <td>0.929549</td>\n",
       "      <td>0.367161</td>\n",
       "      <td>1</td>\n",
       "    </tr>\n",
       "    <tr>\n",
       "      <th>1</th>\n",
       "      <td>0.344729</td>\n",
       "      <td>0.733487</td>\n",
       "      <td>0.589599</td>\n",
       "      <td>0.495474</td>\n",
       "      <td>0.243731</td>\n",
       "      <td>0.761964</td>\n",
       "      <td>0.294066</td>\n",
       "      <td>0.411081</td>\n",
       "      <td>0.000000</td>\n",
       "      <td>1</td>\n",
       "    </tr>\n",
       "    <tr>\n",
       "      <th>2</th>\n",
       "      <td>0.251456</td>\n",
       "      <td>0.388683</td>\n",
       "      <td>0.114646</td>\n",
       "      <td>0.098440</td>\n",
       "      <td>0.149088</td>\n",
       "      <td>0.084182</td>\n",
       "      <td>0.881553</td>\n",
       "      <td>0.034496</td>\n",
       "      <td>0.000000</td>\n",
       "      <td>0</td>\n",
       "    </tr>\n",
       "    <tr>\n",
       "      <th>3</th>\n",
       "      <td>0.130438</td>\n",
       "      <td>0.042047</td>\n",
       "      <td>0.000000</td>\n",
       "      <td>0.000000</td>\n",
       "      <td>0.231034</td>\n",
       "      <td>0.084182</td>\n",
       "      <td>0.090865</td>\n",
       "      <td>0.024306</td>\n",
       "      <td>0.000000</td>\n",
       "      <td>0</td>\n",
       "    </tr>\n",
       "    <tr>\n",
       "      <th>4</th>\n",
       "      <td>0.625495</td>\n",
       "      <td>0.205758</td>\n",
       "      <td>0.434931</td>\n",
       "      <td>0.226597</td>\n",
       "      <td>0.149088</td>\n",
       "      <td>0.084182</td>\n",
       "      <td>0.390499</td>\n",
       "      <td>0.336594</td>\n",
       "      <td>0.191558</td>\n",
       "      <td>1</td>\n",
       "    </tr>\n",
       "  </tbody>\n",
       "</table>\n",
       "</div>"
      ],
      "text/plain": [
       "   Clump_Thickness  Cell_Size_Uniformity  ...   Mitoses  Class\n",
       "0         0.527352              0.885428  ...  0.367161      1\n",
       "1         0.344729              0.733487  ...  0.000000      1\n",
       "2         0.251456              0.388683  ...  0.000000      0\n",
       "3         0.130438              0.042047  ...  0.000000      0\n",
       "4         0.625495              0.205758  ...  0.191558      1\n",
       "\n",
       "[5 rows x 10 columns]"
      ]
     },
     "execution_count": 7,
     "metadata": {
      "tags": []
     },
     "output_type": "execute_result"
    }
   ],
   "source": [
    "from sklearn.preprocessing import MinMaxScaler\n",
    "\n",
    "scaler = MinMaxScaler()\n",
    "\n",
    "df.loc[:,  df.columns != 'Class'] = scaler.fit_transform(df.loc[:,  df.columns != 'Class'])\n",
    "df.head()"
   ]
  },
  {
   "cell_type": "markdown",
   "metadata": {
    "colab_type": "text",
    "id": "I2AhzlCgBT8S"
   },
   "source": [
    "## Dataframes to Arrays"
   ]
  },
  {
   "cell_type": "code",
   "execution_count": 8,
   "metadata": {
    "colab": {
     "base_uri": "https://localhost:8080/",
     "height": 34
    },
    "colab_type": "code",
    "id": "CAHCE11pAt7c",
    "outputId": "87ce9651-b175-4d0d-d432-bad169b7105a"
   },
   "outputs": [
    {
     "name": "stdout",
     "output_type": "stream",
     "text": [
      "(39366, 9) (39366,)\n"
     ]
    }
   ],
   "source": [
    "X = df.loc[:,  df.columns != 'Class'].values\n",
    "y = df.loc[:, 'Class'].values\n",
    "\n",
    "print(X.shape, y.shape)"
   ]
  },
  {
   "cell_type": "markdown",
   "metadata": {
    "colab_type": "text",
    "id": "Z3vRYtD1C8dY"
   },
   "source": [
    "## Train-Validation Split"
   ]
  },
  {
   "cell_type": "code",
   "execution_count": 9,
   "metadata": {
    "colab": {
     "base_uri": "https://localhost:8080/",
     "height": 34
    },
    "colab_type": "code",
    "id": "00DFG3QlBicl",
    "outputId": "091970a9-2696-4ff6-b903-14eb4407c63c"
   },
   "outputs": [
    {
     "name": "stdout",
     "output_type": "stream",
     "text": [
      "(31492, 9) (7874, 9) (31492,) (7874,)\n"
     ]
    }
   ],
   "source": [
    "from sklearn.model_selection import train_test_split\n",
    "\n",
    "X_train, X_val, y_train, y_val = train_test_split(X, y, test_size=0.2, shuffle=True)\n",
    "\n",
    "print(X_train.shape, X_val.shape, y_train.shape, y_val.shape)"
   ]
  },
  {
   "cell_type": "markdown",
   "metadata": {
    "colab_type": "text",
    "id": "4XP5CVCRDbKE"
   },
   "source": [
    "# Model"
   ]
  },
  {
   "cell_type": "code",
   "execution_count": 36,
   "metadata": {
    "colab": {
     "base_uri": "https://localhost:8080/",
     "height": 425
    },
    "colab_type": "code",
    "id": "QV-PnMxLDWLu",
    "outputId": "d0470f3b-42d9-4d05-b143-8b37dac24a7f"
   },
   "outputs": [
    {
     "name": "stdout",
     "output_type": "stream",
     "text": [
      "Model: \"sequential\"\n",
      "_________________________________________________________________\n",
      "Layer (type)                 Output Shape              Param #   \n",
      "=================================================================\n",
      "dense (Dense)                (None, 50)                500       \n",
      "_________________________________________________________________\n",
      "activation (Activation)      (None, 50)                0         \n",
      "_________________________________________________________________\n",
      "dropout (Dropout)            (None, 50)                0         \n",
      "_________________________________________________________________\n",
      "dense_1 (Dense)              (None, 50)                2550      \n",
      "_________________________________________________________________\n",
      "activation_1 (Activation)    (None, 50)                0         \n",
      "_________________________________________________________________\n",
      "dropout_1 (Dropout)          (None, 50)                0         \n",
      "_________________________________________________________________\n",
      "dense_2 (Dense)              (None, 1)                 51        \n",
      "_________________________________________________________________\n",
      "activation_2 (Activation)    (None, 1)                 0         \n",
      "=================================================================\n",
      "Total params: 3,101\n",
      "Trainable params: 3,101\n",
      "Non-trainable params: 0\n",
      "_________________________________________________________________\n"
     ]
    }
   ],
   "source": [
    "import tensorflow as tf\n",
    "from tensorflow import keras\n",
    "\n",
    "tf.keras.backend.clear_session()\n",
    "\n",
    "model = tf.keras.Sequential([\n",
    "                             tf.keras.layers.Dense(units=50, input_shape=[9], kernel_regularizer=tf.keras.regularizers.l2(0.00001)), \n",
    "                             tf.keras.layers.Activation('relu'),\n",
    "                             tf.keras.layers.Dropout(0.2),\n",
    "                             tf.keras.layers.Dense(units=50, kernel_regularizer=tf.keras.regularizers.l2(0.00001)),\n",
    "                             tf.keras.layers.Activation('relu'),\n",
    "                             tf.keras.layers.Dropout(0.2),\n",
    "                             tf.keras.layers.Dense(units=1), \n",
    "                             tf.keras.layers.Activation('sigmoid')\n",
    "                             ])\n",
    "model.summary()"
   ]
  },
  {
   "cell_type": "markdown",
   "metadata": {
    "colab_type": "text",
    "id": "Mt8wKDFID6Y6"
   },
   "source": [
    "## Training"
   ]
  },
  {
   "cell_type": "code",
   "execution_count": 37,
   "metadata": {
    "colab": {
     "base_uri": "https://localhost:8080/",
     "height": 1000
    },
    "colab_type": "code",
    "id": "xSLX_ZmxD3OG",
    "outputId": "7a0ceb31-f85a-4d90-ca09-f7b821efaa3d"
   },
   "outputs": [
    {
     "name": "stdout",
     "output_type": "stream",
     "text": [
      "Train on 31492 samples, validate on 7874 samples\n",
      "Epoch 1/100\n",
      "31492/31492 [==============================] - 3s 104us/sample - loss: 0.1383 - acc: 0.9645 - val_loss: 0.0470 - val_acc: 0.9830\n",
      "Epoch 2/100\n",
      "31492/31492 [==============================] - 3s 101us/sample - loss: 0.0569 - acc: 0.9796 - val_loss: 0.0431 - val_acc: 0.9850\n",
      "Epoch 3/100\n",
      "31492/31492 [==============================] - 3s 100us/sample - loss: 0.0545 - acc: 0.9806 - val_loss: 0.0416 - val_acc: 0.9856\n",
      "Epoch 4/100\n",
      "31492/31492 [==============================] - 3s 93us/sample - loss: 0.0524 - acc: 0.9815 - val_loss: 0.0409 - val_acc: 0.9853\n",
      "Epoch 5/100\n",
      "31492/31492 [==============================] - 3s 93us/sample - loss: 0.0514 - acc: 0.9822 - val_loss: 0.0398 - val_acc: 0.9865\n",
      "Epoch 6/100\n",
      "31492/31492 [==============================] - 3s 95us/sample - loss: 0.0511 - acc: 0.9824 - val_loss: 0.0402 - val_acc: 0.9864\n",
      "Epoch 7/100\n",
      "31492/31492 [==============================] - 3s 91us/sample - loss: 0.0499 - acc: 0.9826 - val_loss: 0.0398 - val_acc: 0.9858\n",
      "Epoch 8/100\n",
      "31492/31492 [==============================] - 3s 90us/sample - loss: 0.0489 - acc: 0.9829 - val_loss: 0.0440 - val_acc: 0.9839\n",
      "Epoch 9/100\n",
      "31492/31492 [==============================] - 3s 93us/sample - loss: 0.0487 - acc: 0.9826 - val_loss: 0.0394 - val_acc: 0.9867\n",
      "Epoch 10/100\n",
      "31492/31492 [==============================] - 3s 95us/sample - loss: 0.0481 - acc: 0.9833 - val_loss: 0.0390 - val_acc: 0.9863\n",
      "Epoch 11/100\n",
      "31492/31492 [==============================] - 3s 96us/sample - loss: 0.0481 - acc: 0.9829 - val_loss: 0.0394 - val_acc: 0.9868\n",
      "Epoch 12/100\n",
      "31492/31492 [==============================] - 3s 93us/sample - loss: 0.0475 - acc: 0.9834 - val_loss: 0.0370 - val_acc: 0.9877\n",
      "Epoch 13/100\n",
      "31492/31492 [==============================] - 3s 92us/sample - loss: 0.0477 - acc: 0.9834 - val_loss: 0.0371 - val_acc: 0.9878\n",
      "Epoch 14/100\n",
      "31492/31492 [==============================] - 3s 92us/sample - loss: 0.0466 - acc: 0.9833 - val_loss: 0.0392 - val_acc: 0.9863\n",
      "Epoch 15/100\n",
      "31492/31492 [==============================] - 3s 96us/sample - loss: 0.0459 - acc: 0.9836 - val_loss: 0.0389 - val_acc: 0.9867\n",
      "Epoch 16/100\n",
      "31492/31492 [==============================] - 3s 94us/sample - loss: 0.0445 - acc: 0.9840 - val_loss: 0.0365 - val_acc: 0.9876\n",
      "Epoch 17/100\n",
      "31492/31492 [==============================] - 3s 90us/sample - loss: 0.0456 - acc: 0.9842 - val_loss: 0.0377 - val_acc: 0.9876\n",
      "Epoch 18/100\n",
      "31492/31492 [==============================] - 3s 95us/sample - loss: 0.0454 - acc: 0.9843 - val_loss: 0.0361 - val_acc: 0.9876\n",
      "Epoch 19/100\n",
      "31492/31492 [==============================] - 3s 93us/sample - loss: 0.0455 - acc: 0.9842 - val_loss: 0.0377 - val_acc: 0.9862\n",
      "Epoch 20/100\n",
      "31492/31492 [==============================] - 3s 89us/sample - loss: 0.0443 - acc: 0.9848 - val_loss: 0.0380 - val_acc: 0.9867\n",
      "Epoch 21/100\n",
      "31492/31492 [==============================] - 3s 89us/sample - loss: 0.0457 - acc: 0.9843 - val_loss: 0.0371 - val_acc: 0.9869\n",
      "Epoch 22/100\n",
      "31492/31492 [==============================] - 3s 90us/sample - loss: 0.0460 - acc: 0.9835 - val_loss: 0.0360 - val_acc: 0.9876\n",
      "Epoch 23/100\n",
      "31492/31492 [==============================] - 3s 93us/sample - loss: 0.0447 - acc: 0.9847 - val_loss: 0.0364 - val_acc: 0.9874\n",
      "Epoch 24/100\n",
      "31492/31492 [==============================] - 3s 90us/sample - loss: 0.0450 - acc: 0.9848 - val_loss: 0.0366 - val_acc: 0.9879\n",
      "Epoch 25/100\n",
      "31492/31492 [==============================] - 3s 95us/sample - loss: 0.0442 - acc: 0.9843 - val_loss: 0.0361 - val_acc: 0.9868\n",
      "Epoch 26/100\n",
      "31492/31492 [==============================] - 3s 89us/sample - loss: 0.0443 - acc: 0.9845 - val_loss: 0.0379 - val_acc: 0.9863\n",
      "Epoch 27/100\n",
      "31492/31492 [==============================] - 3s 91us/sample - loss: 0.0442 - acc: 0.9848 - val_loss: 0.0358 - val_acc: 0.9884\n",
      "Epoch 28/100\n",
      "31492/31492 [==============================] - 3s 88us/sample - loss: 0.0445 - acc: 0.9849 - val_loss: 0.0356 - val_acc: 0.9873\n",
      "Epoch 29/100\n",
      "31492/31492 [==============================] - 3s 92us/sample - loss: 0.0444 - acc: 0.9846 - val_loss: 0.0370 - val_acc: 0.9874\n",
      "Epoch 30/100\n",
      "31492/31492 [==============================] - 3s 88us/sample - loss: 0.0438 - acc: 0.9846 - val_loss: 0.0356 - val_acc: 0.9882\n",
      "Epoch 31/100\n",
      "31492/31492 [==============================] - 3s 89us/sample - loss: 0.0430 - acc: 0.9846 - val_loss: 0.0366 - val_acc: 0.9870\n",
      "Epoch 32/100\n",
      "31492/31492 [==============================] - 3s 93us/sample - loss: 0.0444 - acc: 0.9843 - val_loss: 0.0367 - val_acc: 0.9868\n",
      "Epoch 33/100\n",
      "31492/31492 [==============================] - 3s 87us/sample - loss: 0.0427 - acc: 0.9852 - val_loss: 0.0375 - val_acc: 0.9865\n",
      "Epoch 34/100\n",
      "31492/31492 [==============================] - 3s 89us/sample - loss: 0.0432 - acc: 0.9845 - val_loss: 0.0364 - val_acc: 0.9874\n",
      "Epoch 35/100\n",
      "31492/31492 [==============================] - 3s 88us/sample - loss: 0.0436 - acc: 0.9847 - val_loss: 0.0354 - val_acc: 0.9878\n",
      "Epoch 36/100\n",
      "31492/31492 [==============================] - 3s 95us/sample - loss: 0.0428 - acc: 0.9845 - val_loss: 0.0356 - val_acc: 0.9870\n",
      "Epoch 37/100\n",
      "31492/31492 [==============================] - 3s 90us/sample - loss: 0.0435 - acc: 0.9842 - val_loss: 0.0356 - val_acc: 0.9878\n",
      "Epoch 38/100\n",
      "31492/31492 [==============================] - 3s 95us/sample - loss: 0.0427 - acc: 0.9850 - val_loss: 0.0396 - val_acc: 0.9865\n",
      "Epoch 39/100\n",
      "31492/31492 [==============================] - 3s 89us/sample - loss: 0.0431 - acc: 0.9851 - val_loss: 0.0359 - val_acc: 0.9884\n",
      "Epoch 40/100\n",
      "31492/31492 [==============================] - 3s 88us/sample - loss: 0.0432 - acc: 0.9853 - val_loss: 0.0368 - val_acc: 0.9867\n",
      "Epoch 41/100\n",
      "31492/31492 [==============================] - 3s 94us/sample - loss: 0.0436 - acc: 0.9849 - val_loss: 0.0360 - val_acc: 0.9883\n",
      "Epoch 42/100\n",
      "31492/31492 [==============================] - 3s 95us/sample - loss: 0.0431 - acc: 0.9856 - val_loss: 0.0352 - val_acc: 0.9879\n",
      "Epoch 43/100\n",
      "31492/31492 [==============================] - 3s 100us/sample - loss: 0.0433 - acc: 0.9846 - val_loss: 0.0391 - val_acc: 0.9863\n",
      "Epoch 44/100\n",
      "31492/31492 [==============================] - 3s 94us/sample - loss: 0.0431 - acc: 0.9851 - val_loss: 0.0350 - val_acc: 0.9877\n",
      "Epoch 45/100\n",
      "31492/31492 [==============================] - 3s 91us/sample - loss: 0.0417 - acc: 0.9854 - val_loss: 0.0354 - val_acc: 0.9877\n",
      "Epoch 46/100\n",
      "31492/31492 [==============================] - 3s 89us/sample - loss: 0.0428 - acc: 0.9855 - val_loss: 0.0360 - val_acc: 0.9879\n",
      "Epoch 47/100\n",
      "31492/31492 [==============================] - 3s 95us/sample - loss: 0.0428 - acc: 0.9855 - val_loss: 0.0366 - val_acc: 0.9867\n",
      "Epoch 48/100\n",
      "31492/31492 [==============================] - 3s 100us/sample - loss: 0.0421 - acc: 0.9854 - val_loss: 0.0361 - val_acc: 0.9868\n",
      "Epoch 49/100\n",
      "31492/31492 [==============================] - 3s 90us/sample - loss: 0.0421 - acc: 0.9857 - val_loss: 0.0367 - val_acc: 0.9870\n",
      "Epoch 50/100\n",
      "31492/31492 [==============================] - 3s 94us/sample - loss: 0.0424 - acc: 0.9854 - val_loss: 0.0354 - val_acc: 0.9884\n",
      "Epoch 51/100\n",
      "31492/31492 [==============================] - 3s 91us/sample - loss: 0.0423 - acc: 0.9854 - val_loss: 0.0348 - val_acc: 0.9879\n",
      "Epoch 52/100\n",
      "31492/31492 [==============================] - 3s 91us/sample - loss: 0.0423 - acc: 0.9853 - val_loss: 0.0354 - val_acc: 0.9877\n",
      "Epoch 53/100\n",
      "31492/31492 [==============================] - 3s 95us/sample - loss: 0.0426 - acc: 0.9854 - val_loss: 0.0357 - val_acc: 0.9872\n",
      "Epoch 54/100\n",
      "31492/31492 [==============================] - 3s 98us/sample - loss: 0.0415 - acc: 0.9855 - val_loss: 0.0355 - val_acc: 0.9878\n",
      "Epoch 55/100\n",
      "31492/31492 [==============================] - 3s 88us/sample - loss: 0.0416 - acc: 0.9857 - val_loss: 0.0357 - val_acc: 0.9874\n",
      "Epoch 56/100\n",
      "31492/31492 [==============================] - 3s 103us/sample - loss: 0.0414 - acc: 0.9858 - val_loss: 0.0352 - val_acc: 0.9882\n",
      "Epoch 57/100\n",
      "31492/31492 [==============================] - 3s 94us/sample - loss: 0.0418 - acc: 0.9849 - val_loss: 0.0356 - val_acc: 0.9877\n",
      "Epoch 58/100\n",
      "31492/31492 [==============================] - 3s 89us/sample - loss: 0.0408 - acc: 0.9852 - val_loss: 0.0353 - val_acc: 0.9881\n",
      "Epoch 59/100\n",
      "31492/31492 [==============================] - 3s 85us/sample - loss: 0.0425 - acc: 0.9854 - val_loss: 0.0362 - val_acc: 0.9872\n",
      "Epoch 60/100\n",
      "31492/31492 [==============================] - 3s 90us/sample - loss: 0.0421 - acc: 0.9856 - val_loss: 0.0352 - val_acc: 0.9877\n",
      "Epoch 61/100\n",
      "31492/31492 [==============================] - 3s 89us/sample - loss: 0.0416 - acc: 0.9855 - val_loss: 0.0347 - val_acc: 0.9882\n",
      "Epoch 62/100\n",
      "31492/31492 [==============================] - 3s 96us/sample - loss: 0.0417 - acc: 0.9853 - val_loss: 0.0356 - val_acc: 0.9870\n",
      "Epoch 63/100\n",
      "31492/31492 [==============================] - 3s 99us/sample - loss: 0.0412 - acc: 0.9856 - val_loss: 0.0380 - val_acc: 0.9872\n",
      "Epoch 64/100\n",
      "31492/31492 [==============================] - 3s 92us/sample - loss: 0.0420 - acc: 0.9853 - val_loss: 0.0351 - val_acc: 0.9879\n",
      "Epoch 65/100\n",
      "31492/31492 [==============================] - 3s 87us/sample - loss: 0.0415 - acc: 0.9859 - val_loss: 0.0364 - val_acc: 0.9872\n",
      "Epoch 66/100\n",
      "31492/31492 [==============================] - 3s 90us/sample - loss: 0.0407 - acc: 0.9859 - val_loss: 0.0354 - val_acc: 0.9877\n",
      "Epoch 67/100\n",
      "31492/31492 [==============================] - 3s 95us/sample - loss: 0.0414 - acc: 0.9852 - val_loss: 0.0353 - val_acc: 0.9877\n",
      "Epoch 68/100\n",
      "31492/31492 [==============================] - 3s 92us/sample - loss: 0.0423 - acc: 0.9855 - val_loss: 0.0349 - val_acc: 0.9879\n",
      "Epoch 69/100\n",
      "31492/31492 [==============================] - 3s 92us/sample - loss: 0.0403 - acc: 0.9858 - val_loss: 0.0356 - val_acc: 0.9878\n",
      "Epoch 70/100\n",
      "31492/31492 [==============================] - 3s 102us/sample - loss: 0.0417 - acc: 0.9858 - val_loss: 0.0353 - val_acc: 0.9877\n",
      "Epoch 71/100\n",
      "31492/31492 [==============================] - 3s 93us/sample - loss: 0.0407 - acc: 0.9855 - val_loss: 0.0353 - val_acc: 0.9874\n",
      "Epoch 72/100\n",
      "31492/31492 [==============================] - 3s 92us/sample - loss: 0.0422 - acc: 0.9854 - val_loss: 0.0355 - val_acc: 0.9877\n",
      "Epoch 73/100\n",
      "31492/31492 [==============================] - 3s 95us/sample - loss: 0.0406 - acc: 0.9858 - val_loss: 0.0348 - val_acc: 0.9883\n",
      "Epoch 74/100\n",
      "31492/31492 [==============================] - 3s 89us/sample - loss: 0.0412 - acc: 0.9857 - val_loss: 0.0350 - val_acc: 0.9881\n",
      "Epoch 75/100\n",
      "31492/31492 [==============================] - 3s 95us/sample - loss: 0.0406 - acc: 0.9862 - val_loss: 0.0363 - val_acc: 0.9865\n",
      "Epoch 76/100\n",
      "31492/31492 [==============================] - 3s 92us/sample - loss: 0.0411 - acc: 0.9856 - val_loss: 0.0349 - val_acc: 0.9881\n",
      "Epoch 77/100\n",
      "31492/31492 [==============================] - 3s 99us/sample - loss: 0.0418 - acc: 0.9855 - val_loss: 0.0351 - val_acc: 0.9879\n",
      "Epoch 78/100\n",
      "31492/31492 [==============================] - 3s 93us/sample - loss: 0.0412 - acc: 0.9858 - val_loss: 0.0352 - val_acc: 0.9879\n",
      "Epoch 79/100\n",
      "31492/31492 [==============================] - 3s 91us/sample - loss: 0.0407 - acc: 0.9863 - val_loss: 0.0350 - val_acc: 0.9879\n",
      "Epoch 80/100\n",
      "31492/31492 [==============================] - 3s 95us/sample - loss: 0.0417 - acc: 0.9859 - val_loss: 0.0353 - val_acc: 0.9883\n",
      "Epoch 81/100\n",
      "31492/31492 [==============================] - 3s 91us/sample - loss: 0.0411 - acc: 0.9855 - val_loss: 0.0352 - val_acc: 0.9879\n",
      "Epoch 82/100\n",
      "31492/31492 [==============================] - 3s 89us/sample - loss: 0.0406 - acc: 0.9862 - val_loss: 0.0351 - val_acc: 0.9883\n",
      "Epoch 83/100\n",
      "31492/31492 [==============================] - 3s 88us/sample - loss: 0.0419 - acc: 0.9851 - val_loss: 0.0359 - val_acc: 0.9887\n",
      "Epoch 84/100\n",
      "31492/31492 [==============================] - 3s 88us/sample - loss: 0.0407 - acc: 0.9859 - val_loss: 0.0357 - val_acc: 0.9878\n",
      "Epoch 85/100\n",
      "31492/31492 [==============================] - 3s 91us/sample - loss: 0.0407 - acc: 0.9856 - val_loss: 0.0354 - val_acc: 0.9883\n",
      "Epoch 86/100\n",
      "31492/31492 [==============================] - 3s 88us/sample - loss: 0.0408 - acc: 0.9858 - val_loss: 0.0364 - val_acc: 0.9878\n",
      "Epoch 87/100\n",
      "31492/31492 [==============================] - 3s 91us/sample - loss: 0.0411 - acc: 0.9860 - val_loss: 0.0359 - val_acc: 0.9879\n",
      "Epoch 88/100\n",
      "31492/31492 [==============================] - 3s 89us/sample - loss: 0.0410 - acc: 0.9861 - val_loss: 0.0354 - val_acc: 0.9882\n",
      "Epoch 89/100\n",
      "31492/31492 [==============================] - 3s 89us/sample - loss: 0.0405 - acc: 0.9860 - val_loss: 0.0379 - val_acc: 0.9868\n",
      "Epoch 90/100\n",
      "31492/31492 [==============================] - 3s 94us/sample - loss: 0.0409 - acc: 0.9859 - val_loss: 0.0361 - val_acc: 0.9882\n",
      "Epoch 91/100\n",
      "31492/31492 [==============================] - 3s 89us/sample - loss: 0.0398 - acc: 0.9866 - val_loss: 0.0352 - val_acc: 0.9886\n",
      "Epoch 92/100\n",
      "31492/31492 [==============================] - 3s 94us/sample - loss: 0.0403 - acc: 0.9860 - val_loss: 0.0354 - val_acc: 0.9884\n",
      "Epoch 93/100\n",
      "31492/31492 [==============================] - 3s 93us/sample - loss: 0.0410 - acc: 0.9861 - val_loss: 0.0349 - val_acc: 0.9877\n",
      "Epoch 94/100\n",
      "31492/31492 [==============================] - 3s 92us/sample - loss: 0.0403 - acc: 0.9862 - val_loss: 0.0357 - val_acc: 0.9881\n",
      "Epoch 95/100\n",
      "31492/31492 [==============================] - 3s 91us/sample - loss: 0.0402 - acc: 0.9863 - val_loss: 0.0354 - val_acc: 0.9882\n",
      "Epoch 96/100\n",
      "31492/31492 [==============================] - 3s 92us/sample - loss: 0.0405 - acc: 0.9862 - val_loss: 0.0354 - val_acc: 0.9883\n",
      "Epoch 97/100\n",
      "31492/31492 [==============================] - 3s 92us/sample - loss: 0.0402 - acc: 0.9864 - val_loss: 0.0361 - val_acc: 0.9872\n",
      "Epoch 98/100\n",
      "31492/31492 [==============================] - 3s 88us/sample - loss: 0.0410 - acc: 0.9854 - val_loss: 0.0352 - val_acc: 0.9883\n",
      "Epoch 99/100\n",
      "31492/31492 [==============================] - 3s 97us/sample - loss: 0.0402 - acc: 0.9857 - val_loss: 0.0356 - val_acc: 0.9892\n",
      "Epoch 100/100\n",
      "31492/31492 [==============================] - 3s 92us/sample - loss: 0.0408 - acc: 0.9858 - val_loss: 0.0345 - val_acc: 0.9886\n"
     ]
    }
   ],
   "source": [
    "optimizer = tf.keras.optimizers.Adam(lr=0.001)\n",
    "model.compile(optimizer=optimizer, loss='binary_crossentropy', metrics=['accuracy'])\n",
    "tf_history_dp = model.fit(X_train, y_train, batch_size=50, epochs=100, verbose=True, validation_data=(X_val, y_val))"
   ]
  },
  {
   "cell_type": "code",
   "execution_count": 38,
   "metadata": {
    "colab": {
     "base_uri": "https://localhost:8080/",
     "height": 432
    },
    "colab_type": "code",
    "id": "EgwyG2kKEC7H",
    "outputId": "c71f8a94-e69b-43e9-b63b-ff71dab43eb6"
   },
   "outputs": [
    {
     "data": {
      "image/png": "[encoded data removed]",
      "text/plain": [
       "<Figure size 1440x504 with 2 Axes>"
      ]
     },
     "metadata": {
      "tags": []
     },
     "output_type": "display_data"
    }
   ],
   "source": [
    "import matplotlib.pyplot as plt\n",
    "\n",
    "plt.figure(figsize=(20,7))\n",
    "\n",
    "plt.subplot(1,2,1)\n",
    "plt.plot(tf_history_dp.history['loss'], label='Training Loss')\n",
    "plt.plot(tf_history_dp.history['val_loss'], label='Validation Loss')\n",
    "plt.legend()\n",
    "\n",
    "plt.subplot(1,2,2)\n",
    "plt.plot(tf_history_dp.history['acc'], label='Training Accuracy')\n",
    "plt.plot(tf_history_dp.history['val_acc'], label='Validation Accuracy')\n",
    "plt.legend()\n",
    "plt.show()"
   ]
  },
  {
   "cell_type": "markdown",
   "metadata": {
    "colab_type": "text",
    "id": "aDNZd2IpKh_i"
   },
   "source": [
    "We were able to get an accuracy of 98.8% on Validation set, but in these kind of medical diagnosis tasks even a 0.1% improvement is very important. \n",
    "\n",
    "Try to improve the performance more."
   ]
  }
 ],
 "metadata": {
  "accelerator": "GPU",
  "colab": {
   "collapsed_sections": [],
   "include_colab_link": true,
   "name": "2_7_ANN_Medical_Diagnosis.ipynb",
   "provenance": [],
   "toc_visible": true,
   "version": "0.3.2"
  },
  "kernelspec": {
   "display_name": "Python 3",
   "language": "python",
   "name": "python3"
  },
  "language_info": {
   "codemirror_mode": {
    "name": "ipython",
    "version": 3
   },
   "file_extension": ".py",
   "mimetype": "text/x-python",
   "name": "python",
   "nbconvert_exporter": "python",
   "pygments_lexer": "ipython3",
   "version": "3.6.8"
  }
 },
 "nbformat": 4,
 "nbformat_minor": 1
}
