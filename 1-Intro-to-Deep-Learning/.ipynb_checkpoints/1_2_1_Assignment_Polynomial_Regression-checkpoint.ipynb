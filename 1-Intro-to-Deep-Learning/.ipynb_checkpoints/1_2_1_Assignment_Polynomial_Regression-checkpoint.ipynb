{
 "cells": [
  {
   "cell_type": "markdown",
   "metadata": {
    "colab_type": "text",
    "id": "view-in-github"
   },
   "source": [
    "<a href=\"https://colab.research.google.com/github/shangeth/Google-ML-Academy/blob/master/1-Intro-to-Deep-Learning/1_2_1_Assignment_Polynomial_Regression.ipynb\" target=\"_parent\"><img src=\"https://colab.research.google.com/assets/colab-badge.svg\" alt=\"Open In Colab\"/></a>"
   ]
  },
  {
   "cell_type": "markdown",
   "metadata": {
    "colab_type": "text",
    "id": "MTd7W7TxCV7q"
   },
   "source": [
    "<hr>\n",
    "<h1 align=\"center\"><a href='https://shangeth.com/courses/'>Deep Learning - Beginners Track</a></h1>\n",
    "<h3 align=\"center\">Instructor: <a href='https://shangeth.com/'>Shangeth Rajaa</a></h3>\n",
    "<hr>"
   ]
  },
  {
   "cell_type": "markdown",
   "metadata": {
    "colab_type": "text",
    "id": "es9QfSb6J8za"
   },
   "source": [
    "# Task-1 : Linear Regression on Non-Linear Data\n",
    "\n",
    "- Get X and y from dataset() function\n",
    "- Train a Linear Regression model for this dataset.\n",
    "- Visualize the model prediction"
   ]
  },
  {
   "cell_type": "markdown",
   "metadata": {
    "colab_type": "text",
    "id": "z-IlItpAKWBl"
   },
   "source": [
    "## Dataset\n",
    "\n",
    "Call ```dataset()``` function to get X, y"
   ]
  },
  {
   "cell_type": "code",
   "execution_count": 1,
   "metadata": {
    "colab": {
     "base_uri": "https://localhost:8080/",
     "height": 269
    },
    "colab_type": "code",
    "id": "_Qjqkxe7KXkh",
    "outputId": "e3648df2-f581-4cfe-fd9b-e9c6d257d088"
   },
   "outputs": [
    {
     "data": {
      "image/png": "[encoded data removed]",
      "text/plain": [
       "<Figure size 432x288 with 1 Axes>"
      ]
     },
     "metadata": {
      "tags": []
     },
     "output_type": "display_data"
    }
   ],
   "source": [
    "import numpy as np\n",
    "import matplotlib.pyplot as plt\n",
    "\n",
    "def dataset(show=True):\n",
    "    X = np.arange(-25, 25, 0.1)\n",
    "    # Try changing y to a different function\n",
    "    y = X**3 + 20 + np.random.randn(500)*1000\n",
    "    if show:\n",
    "        plt.scatter(X, y)\n",
    "        plt.show()\n",
    "    return X, y\n",
    "\n",
    "X, y = dataset()"
   ]
  },
  {
   "cell_type": "markdown",
   "metadata": {
    "colab_type": "text",
    "id": "tKRpy65MNUlw"
   },
   "source": [
    "## Scaling Dataset\n",
    "\n",
    "The maximum value of y in the dataset goes upto 15000 and the minimum values is less than -15000. The range of y is very large which makes the convergence/loss reduction slower. So will we scale the data, scaling the data will help the model converge faster. If all the features and target are in same range, there will be symmetry in the curve of Loss vs weights/bias, which makes the convergence faster.\n",
    "\n",
    "We will do a very simple type of scaling, we will divide all the values of the data with the maximum values for X and y respectively. "
   ]
  },
  {
   "cell_type": "code",
   "execution_count": 0,
   "metadata": {
    "colab": {},
    "colab_type": "code",
    "id": "QzPpSAUaNTpi"
   },
   "outputs": [],
   "source": [
    "X, y = dataset()\n",
    "\n",
    "print(max(X), max(y), min(X), min(y))\n",
    "\n",
    "# TODO: divide array X and y by its max values\n",
    "X = #\n",
    "y = #\n",
    "\n",
    "print(max(X), max(y), min(X), min(y))"
   ]
  },
  {
   "cell_type": "markdown",
   "metadata": {
    "colab_type": "text",
    "id": "BqvlVbQDOoSd"
   },
   "source": [
    "This is not a great scaling method, but good to start. We will see many more scaling/normalizing methods later.\n",
    "\n",
    "**Try training the model with and without scaling and see the difference yourself.**"
   ]
  },
  {
   "cell_type": "markdown",
   "metadata": {
    "colab_type": "text",
    "id": "jpzO5Eb207_i"
   },
   "source": [
    "## Linear Regression in TensorFlow\n",
    "\n",
    "If you are not sure about TF model definition check the [documentation](https://www.tensorflow.org/api_docs/python/tf/keras/Model)\n",
    "\n",
    "Refer the previous notebook, code is almost the same or you can even check the next notebook(solutions)."
   ]
  },
  {
   "cell_type": "code",
   "execution_count": 0,
   "metadata": {
    "colab": {},
    "colab_type": "code",
    "id": "ioav6Ec6rpbJ"
   },
   "outputs": [],
   "source": [
    "import tensorflow as tf\n",
    "from tensorflow import keras\n",
    "import matplotlib.pyplot as plt\n",
    "import numpy as np\n",
    "\n",
    "X, y = dataset(show=False)\n",
    "X_scaled = # Scaled X value\n",
    "y_scaled = # Scaled y value\n",
    "\n",
    "model = # TF Dense Model\n",
    "\n",
    "# check how to define a optimizer here https://www.tensorflow.org/api_docs/python/tf/keras/optimizers\n",
    "optimizer = \n",
    "\n",
    "# train the model\n",
    "# compile the model\n",
    "\n",
    "tf_history = # fit the model\n",
    "\n",
    "\n",
    "plt.plot(tf_history.history['loss'])\n",
    "plt.xlabel('Epochs')\n",
    "plt.ylabel('MSE Loss')\n",
    "plt.show()\n",
    "\n",
    "mse = tf_history.history['loss'][-1]\n",
    "y_hat = model.predict(X_scaled)\n",
    "\n",
    "plt.figure(figsize=(12,7))\n",
    "plt.title('TensorFlow Model')\n",
    "plt.scatter(X_scaled, y_scaled, label='Data $(X, y)$')\n",
    "plt.plot(X_scaled, y_hat, color='red', label='Predicted Line $y = f(X)$',linewidth=4.0)\n",
    "plt.xlabel('$X$', fontsize=20)\n",
    "plt.ylabel('$y$', fontsize=20)\n",
    "plt.text(0,0.70,'MSE = {:.3f}'.format(mse), fontsize=20)\n",
    "plt.grid(True)\n",
    "plt.legend(fontsize=20)\n",
    "plt.show()"
   ]
  },
  {
   "cell_type": "markdown",
   "metadata": {
    "colab_type": "text",
    "id": "M_yyuTj-RFin"
   },
   "source": [
    "# Polynomial Regression\n",
    "\n",
    "So when the dataset is not linear, linear regression cannot learn the dataset and make good predictions. \n",
    "\n",
    "So we need a polynomial model which consideres the polynomial terms as well. So we need terms like $x^2$, $x^3$, ..., $x^n$ for the model to learn a polynomial of $n^{th}$ degree.\n",
    "\n",
    "$\\hat{y} = w_0 + w_1x + w_2x^2 + ... + w_nx^n$\n",
    "\n",
    "One down side of this model is that, We will have to decide the value of n. But this is better than a linear regression model. We can get an idea of the value of n by visualizing a dataset, but for multi variable dataset, we will have to try different values of n and check which is better."
   ]
  },
  {
   "cell_type": "markdown",
   "metadata": {
    "colab_type": "text",
    "id": "x8u4rPzJTCJJ"
   },
   "source": [
    "## Polynomial Features\n",
    "\n",
    "you can calculate the polynomial features for each feature by programming it or you can try ```sklearn.preprocessing.PolynomialFeatures``` which allows us to make polynomial terms of our data.\n",
    "\n",
    "We will try degree 2, 3 and 4"
   ]
  },
  {
   "cell_type": "code",
   "execution_count": 0,
   "metadata": {
    "colab": {},
    "colab_type": "code",
    "id": "oZbYgRFcT9q6"
   },
   "outputs": [],
   "source": [
    "X, y = dataset(show=False)\n",
    "X_scaled = X/max(X)\n",
    "y_scaled = y/max(y)"
   ]
  },
  {
   "cell_type": "code",
   "execution_count": 0,
   "metadata": {
    "colab": {},
    "colab_type": "code",
    "id": "gDHF3FLBRBTK"
   },
   "outputs": [],
   "source": [
    "from sklearn.preprocessing import PolynomialFeatures\n",
    "poly = PolynomialFeatures(degree=2) \n",
    "                                        \n",
    "X_2 = poly.fit_transform(X_scaled.reshape(-1,1))\n",
    "print(X_2.shape)\n",
    "print(X_2[0])"
   ]
  },
  {
   "cell_type": "code",
   "execution_count": 0,
   "metadata": {
    "colab": {},
    "colab_type": "code",
    "id": "Tp0jMLxPTxs2"
   },
   "outputs": [],
   "source": [
    "# TODO \n",
    "# get the 3rd degree terms\n",
    "\n",
    "poly = # poly features\n",
    "                                        \n",
    "X_3 = # 3rd degree terms\n",
    "print(X_3.shape)\n",
    "print(X_3[0])"
   ]
  },
  {
   "cell_type": "code",
   "execution_count": 0,
   "metadata": {
    "colab": {},
    "colab_type": "code",
    "id": "j0V5pFUWT4kg"
   },
   "outputs": [],
   "source": [
    "# TODO \n",
    "# get the 4th degree terms\n",
    "\n",
    "poly = # poly features\n",
    "                                        \n",
    "X_4 = # 4th degree terms\n",
    "print(X_4.shape)\n",
    "print(X_4[0])"
   ]
  },
  {
   "cell_type": "markdown",
   "metadata": {
    "colab_type": "text",
    "id": "q7rzpVB3VLN7"
   },
   "source": [
    "The PolynomialFeatures returns $[1, x, x^2, x^3,...]$."
   ]
  },
  {
   "cell_type": "markdown",
   "metadata": {
    "colab_type": "text",
    "id": "mcdv2RDhUF7C"
   },
   "source": [
    "# Task - 2\n",
    "\n",
    "- Train a model with polynomial terms in the dataset.\n",
    "- Visualize the prediction of the model\n",
    "\n",
    "\n",
    "The code remains the same except, the no of input features will be 3, 4, 5 respectively. "
   ]
  },
  {
   "cell_type": "markdown",
   "metadata": {
    "colab_type": "text",
    "id": "WCVRwEynVxYL"
   },
   "source": [
    "## Tensorflow Model with 2nd Degree"
   ]
  },
  {
   "cell_type": "code",
   "execution_count": 0,
   "metadata": {
    "colab": {},
    "colab_type": "code",
    "id": "lJXuJi6UUBZO"
   },
   "outputs": [],
   "source": [
    "import tensorflow as tf\n",
    "from tensorflow import keras\n",
    "import matplotlib.pyplot as plt\n",
    "import numpy as np\n",
    "\n",
    "\n",
    "\n",
    "model = # TF Dense Model\n",
    "\n",
    "# check how to define a optimizer here https://www.tensorflow.org/api_docs/python/tf/keras/optimizers\n",
    "optimizer = \n",
    "\n",
    "# train the model\n",
    "# compile the model\n",
    "\n",
    "tf_history = # fit the model\n",
    "\n",
    "\n",
    "\n",
    "plt.plot(tf_history.history['loss'])\n",
    "plt.xlabel('Epochs')\n",
    "plt.ylabel('MSE Loss')\n",
    "plt.show()\n",
    "\n",
    "mse = tf_history.history['loss'][-1]\n",
    "y_hat = model.predict(X_2)\n",
    "\n",
    "plt.figure(figsize=(12,7))\n",
    "plt.title('TensorFlow Model')\n",
    "plt.scatter(X_2[:, 1], y_scaled, label='Data $(X, y)$')\n",
    "plt.plot(X_2[:, 1], y_hat, color='red', label='Predicted Line $y = f(X)$',linewidth=4.0)\n",
    "plt.xlabel('$X$', fontsize=20)\n",
    "plt.ylabel('$y$', fontsize=20)\n",
    "plt.text(0,0.70,'MSE = {:.3f}'.format(mse), fontsize=20)\n",
    "plt.grid(True)\n",
    "plt.legend(fontsize=20)\n",
    "plt.show()"
   ]
  },
  {
   "cell_type": "markdown",
   "metadata": {
    "colab_type": "text",
    "id": "ovvrgy0_fcRM"
   },
   "source": [
    "Why is the polynomial regression with 2-d features look like a straight line?\n",
    "\n",
    "Well because the model thinks that a straight line(look like, we can't be sure if its a straight like, it can a parabola as well) better fits the dataset than a parabola. If you train the model for less epochs you can notice the model tries to fit the data with a parabola(2-d) but it improves as it moves to a line.\n",
    "\n",
    "Train the same model for may be 50 epochs."
   ]
  },
  {
   "cell_type": "code",
   "execution_count": 0,
   "metadata": {
    "colab": {},
    "colab_type": "code",
    "id": "wlJYRqnMVjCu"
   },
   "outputs": [],
   "source": [
    "import tensorflow as tf\n",
    "from tensorflow import keras\n",
    "import matplotlib.pyplot as plt\n",
    "import numpy as np\n",
    "\n",
    "\n",
    "\n",
    "model = # TF Dense Model\n",
    "\n",
    "# check how to define a optimizer here https://www.tensorflow.org/api_docs/python/tf/keras/optimizers\n",
    "optimizer = \n",
    "\n",
    "# train the model for 50 epochs\n",
    "# compile the model\n",
    "\n",
    "tf_history = # fit the model\n",
    "\n",
    "\n",
    "\n",
    "plt.plot(tf_history.history['loss'])\n",
    "plt.xlabel('Epochs')\n",
    "plt.ylabel('MSE Loss')\n",
    "plt.show()\n",
    "\n",
    "mse = tf_history.history['loss'][-1]\n",
    "y_hat = model.predict(X_2)\n",
    "\n",
    "plt.figure(figsize=(12,7))\n",
    "plt.title('TensorFlow Model')\n",
    "plt.scatter(X_2[:, 1], y_scaled, label='Data $(X, y)$')\n",
    "plt.plot(X_2[:, 1], y_hat, color='red', label='Predicted Line $y = f(X)$',linewidth=4.0)\n",
    "plt.xlabel('$X$', fontsize=20)\n",
    "plt.ylabel('$y$', fontsize=20)\n",
    "plt.text(0,0.70,'MSE = {:.3f}'.format(mse), fontsize=20)\n",
    "plt.grid(True)\n",
    "plt.legend(fontsize=20)\n",
    "plt.show()"
   ]
  },
  {
   "cell_type": "markdown",
   "metadata": {
    "colab_type": "text",
    "id": "PN99ty_GER0Z"
   },
   "source": [
    "You can clearly see that the model tries to fit the data with a parabola which doen't seem to fit well, so it changes the parameters to fit a line."
   ]
  },
  {
   "cell_type": "markdown",
   "metadata": {
    "colab_type": "text",
    "id": "gV2fxw9rV3aA"
   },
   "source": [
    "## Tensorflow Model with 3rd Degree"
   ]
  },
  {
   "cell_type": "code",
   "execution_count": 0,
   "metadata": {
    "colab": {},
    "colab_type": "code",
    "id": "xVY5HcC7V3aO"
   },
   "outputs": [],
   "source": [
    "import tensorflow as tf\n",
    "from tensorflow import keras\n",
    "import matplotlib.pyplot as plt\n",
    "import numpy as np\n",
    "\n",
    "\n",
    "model = # TF Dense Model\n",
    "\n",
    "# check how to define a optimizer here https://www.tensorflow.org/api_docs/python/tf/keras/optimizers\n",
    "optimizer = \n",
    "\n",
    "# train the model \n",
    "# compile the model\n",
    "\n",
    "tf_history = # fit the model\n",
    "\n",
    "plt.plot(tf_history.history['loss'])\n",
    "plt.xlabel('Epochs')\n",
    "plt.ylabel('MSE Loss')\n",
    "plt.show()\n",
    "\n",
    "mse = tf_history.history['loss'][-1]\n",
    "y_hat = model.predict(X_3)\n",
    "\n",
    "plt.figure(figsize=(12,7))\n",
    "plt.title('TensorFlow Model')\n",
    "plt.scatter(X_3[:, 1], y_scaled, label='Data $(X, y)$')\n",
    "plt.plot(X_3[:, 1], y_hat, color='red', label='Predicted Line $y = f(X)$',linewidth=4.0)\n",
    "plt.xlabel('$X$', fontsize=20)\n",
    "plt.ylabel('$y$', fontsize=20)\n",
    "plt.text(0,0.70,'MSE = {:.3f}'.format(mse), fontsize=20)\n",
    "plt.grid(True)\n",
    "plt.legend(fontsize=20)\n",
    "plt.show()"
   ]
  },
  {
   "cell_type": "markdown",
   "metadata": {
    "colab_type": "text",
    "id": "djQgZARjgYfI"
   },
   "source": [
    "3-D features perfectly fit the data with a 3rd degree polynomial as expected."
   ]
  },
  {
   "cell_type": "markdown",
   "metadata": {
    "colab_type": "text",
    "id": "zppsoHcaV4qK"
   },
   "source": [
    "# Tensorflow Model with 4th Degree"
   ]
  },
  {
   "cell_type": "code",
   "execution_count": 0,
   "metadata": {
    "colab": {},
    "colab_type": "code",
    "id": "oYMBxfHnV4qO"
   },
   "outputs": [],
   "source": [
    "import tensorflow as tf\n",
    "from tensorflow import keras\n",
    "import matplotlib.pyplot as plt\n",
    "import numpy as np\n",
    "\n",
    "\n",
    "model = # TF Dense Model\n",
    "\n",
    "# check how to define a optimizer here https://www.tensorflow.org/api_docs/python/tf/keras/optimizers\n",
    "optimizer = \n",
    "\n",
    "# train the model\n",
    "# compile the model\n",
    "\n",
    "tf_history = # fit the model\n",
    "\n",
    "plt.plot(tf_history.history['loss'])\n",
    "plt.xlabel('Epochs')\n",
    "plt.ylabel('MSE Loss')\n",
    "plt.show()\n",
    "\n",
    "mse = tf_history.history['loss'][-1]\n",
    "y_hat = model.predict(X_4)\n",
    "\n",
    "plt.figure(figsize=(12,7))\n",
    "plt.title('TensorFlow Model')\n",
    "plt.scatter(X_4[:, 1], y_scaled, label='Data $(X, y)$')\n",
    "plt.plot(X_4[:, 1], y_hat, color='red', label='Predicted Line $y = f(X)$',linewidth=4.0)\n",
    "plt.xlabel('$X$', fontsize=20)\n",
    "plt.ylabel('$y$', fontsize=20)\n",
    "plt.text(0,0.70,'MSE = {:.3f}'.format(mse), fontsize=20)\n",
    "plt.grid(True)\n",
    "plt.legend(fontsize=20)\n",
    "plt.show()"
   ]
  },
  {
   "cell_type": "markdown",
   "metadata": {
    "colab_type": "text",
    "id": "bHIymsWZ_kxw"
   },
   "source": [
    "4th degree poly-regression also did a good job in fitting the data as it also have the 3rd degree terms."
   ]
  },
  {
   "cell_type": "code",
   "execution_count": 0,
   "metadata": {
    "colab": {},
    "colab_type": "code",
    "id": "BbS6DGuU_mpi"
   },
   "outputs": [],
   "source": [
    "import tensorflow as tf\n",
    "from tensorflow import keras\n",
    "import matplotlib.pyplot as plt\n",
    "import numpy as np\n",
    "\n",
    "model = # TF Dense Model\n",
    "\n",
    "# check how to define a optimizer here https://www.tensorflow.org/api_docs/python/tf/keras/optimizers\n",
    "optimizer = \n",
    "\n",
    "# train the model for 50 epochs\n",
    "# compile the model\n",
    "\n",
    "tf_history = # fit the model\n",
    "\n",
    "plt.plot(tf_history.history['loss'])\n",
    "plt.xlabel('Epochs')\n",
    "plt.ylabel('MSE Loss')\n",
    "plt.show()\n",
    "\n",
    "mse = tf_history.history['loss'][-1]\n",
    "y_hat = model.predict(X_4)\n",
    "\n",
    "plt.figure(figsize=(12,7))\n",
    "plt.title('TensorFlow Model')\n",
    "plt.scatter(X_4[:, 1], y_scaled, label='Data $(X, y)$')\n",
    "plt.plot(X_4[:, 1], y_hat, color='red', label='Predicted Line $y = f(X)$',linewidth=4.0)\n",
    "plt.xlabel('$X$', fontsize=20)\n",
    "plt.ylabel('$y$', fontsize=20)\n",
    "plt.text(0,0.70,'MSE = {:.3f}'.format(mse), fontsize=20)\n",
    "plt.grid(True)\n",
    "plt.legend(fontsize=20)\n",
    "plt.show()"
   ]
  },
  {
   "cell_type": "markdown",
   "metadata": {
    "colab_type": "text",
    "id": "H5aMu5aQ_8y_"
   },
   "source": [
    "If you run the 4th degree poly-regression for fewer epochs, you can notice, the model tries to fit a 4th(or higher than 3rd) degree polynomial but as the loss is high, the model changes it parameters to set the 4th degree terms to almost 0 and thus giving a 3rd degree polynomial as you train for more epochs."
   ]
  },
  {
   "cell_type": "markdown",
   "metadata": {
    "colab_type": "text",
    "id": "VC4GQ-bQXD9v"
   },
   "source": [
    "\n",
    "\n",
    "This is polynomial regression. Yes, its easy. But one issue, as this was a toy dataset we know its a 3rd degree data, so we tried 2,3,4. But when the data is multi dimensional we cannot visualize the dataset, so its difficult to decide the degree. This is why you will see Neural Networks are awesome. They are End-End, they do not need several feature extraction from our side, they can extract necessary features of their own.\n",
    "\n",
    "\n",
    "**Make a Higher degree (4th/5th degree) data and try polynomial regression on it. Also try different functions like exponents, trignometric..etc.**"
   ]
  }
 ],
 "metadata": {
  "colab": {
   "collapsed_sections": [],
   "include_colab_link": true,
   "name": "1_2_1_Assignment_Polynomial_Regression.ipynb",
   "provenance": [],
   "version": "0.3.2"
  },
  "ipub": {
   "titlepage": {
    "author": "Shangeth Rajaa",
    "email": "shangethrajaa@gmail.com",
    "website": "shangeth.com"
   }
  },
  "kernelspec": {
   "display_name": "Python3 (dlenv)",
   "language": "python",
   "name": "dlenv"
  },
  "language_info": {
   "codemirror_mode": {
    "name": "ipython",
    "version": 3
   },
   "file_extension": ".py",
   "mimetype": "text/x-python",
   "name": "python",
   "nbconvert_exporter": "python",
   "pygments_lexer": "ipython3",
   "version": "3.6.8"
  }
 },
 "nbformat": 4,
 "nbformat_minor": 1
}
